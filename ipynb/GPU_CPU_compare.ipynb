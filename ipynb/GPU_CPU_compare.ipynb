{
 "cells": [
  {
   "cell_type": "markdown",
   "id": "e3a86ce9",
   "metadata": {},
   "source": [
    "## とにかくまずGoogle colabにはいったら、上のメニューから「ランタイム」→「ランタイムのタイプを変更」→「ハードウェアアクセラレータ」をGPUにする→保存、をしてください。これでGPUが使えるようになります。\n",
    "## あとは、下のセル移行をShift+Enterを連打してください。\n",
    "どうやらGPUは一回目の起動時は遅いみたいですので、# Calculationのところは２回実行したほうがきれいな結果が出るかもです。"
   ]
  },
  {
   "cell_type": "code",
   "execution_count": 1,
   "id": "648a7e9b",
   "metadata": {},
   "outputs": [],
   "source": [
    "import numpy as np\n",
    "import cupy as cp\n",
    "import time\n",
    "import matplotlib.pyplot as plt"
   ]
  },
  {
   "cell_type": "code",
   "execution_count": 2,
   "id": "ec24785e",
   "metadata": {},
   "outputs": [],
   "source": [
    "# Define functions\n",
    "\n",
    "NREPEAT = 100\n",
    "\n",
    "# CPU ForLoop\n",
    "def cpu_forloop(N):\n",
    "    if N>1000:\n",
    "        time1=100\n",
    "    else:\n",
    "        Jij = np.random.random([N,N])\n",
    "        x = np.random.random(N)\n",
    "        y = np.zeros(N)\n",
    "        time0 = time.time()\n",
    "        for i in range(NREPEAT):\n",
    "            for k in range(N):\n",
    "                buf = 0\n",
    "                for kk in range(N):\n",
    "                    buf+= Jij[k,kk] * x[kk] \n",
    "                y[k] = np.tanh( buf )\n",
    "        time1 = time.time()-time0\n",
    "    print(N, time1)\n",
    "    return time1\n",
    "\n",
    "# CPU matrix\n",
    "def cpu_matrix(N):\n",
    "    if N>10000:\n",
    "        time1=100\n",
    "    else:\n",
    "        Jij = np.random.random([N,N])\n",
    "        x = np.random.random(N)\n",
    "        time0 = time.time()\n",
    "        for i in range(NREPEAT):\n",
    "            y = np.tanh( Jij @ x  )\n",
    "        time1 = time.time()-time0\n",
    "    print(N, time1)\n",
    "    return time1\n",
    "\n",
    "# GPU matrix\n",
    "def gpu_matrix(N):\n",
    "    if N>10000:\n",
    "        time1=100\n",
    "    else:\n",
    "        Jij = cp.random.random([N,N])\n",
    "        x = cp.random.random(N)\n",
    "        time0 = time.time()\n",
    "        for i in range(NREPEAT):\n",
    "            y = cp.tanh( Jij @ x  )\n",
    "        time1 = time.time()-time0\n",
    "    print(N, time1)\n",
    "    return time1\n"
   ]
  },
  {
   "cell_type": "code",
   "execution_count": 4,
   "id": "01558ea3",
   "metadata": {},
   "outputs": [
    {
     "name": "stdout",
     "output_type": "stream",
     "text": [
      "1 0.0\n",
      "1 0.0\n",
      "1 0.0069811344146728516\n",
      "0 / 8\n",
      "3 0.0\n",
      "3 0.0009970664978027344\n",
      "3 0.004019975662231445\n",
      "1 / 8\n",
      "10 0.00399017333984375\n",
      "10 0.0\n",
      "10 0.003988027572631836\n",
      "2 / 8\n",
      "31 0.027924537658691406\n",
      "31 0.0009984970092773438\n",
      "31 0.0039937496185302734\n",
      "3 / 8\n",
      "100 0.2802155017852783\n",
      "100 0.01002645492553711\n",
      "100 0.003989219665527344\n",
      "4 / 8\n",
      "316 2.5023741722106934\n",
      "316 0.010242700576782227\n",
      "316 0.003988981246948242\n",
      "5 / 8\n",
      "1000 27.90177059173584\n",
      "1000 0.01251220703125\n",
      "1000 0.0049877166748046875\n",
      "6 / 8\n",
      "3162 100\n",
      "3162 0.23791813850402832\n",
      "3162 0.003988504409790039\n",
      "7 / 8\n",
      "10000 100\n",
      "10000 2.5038132667541504\n",
      "10000 0.004987239837646484\n",
      "8 / 8\n"
     ]
    },
    {
     "data": {
      "image/png": "[encoded data removed]",
      "text/plain": [
       "<Figure size 360x360 with 1 Axes>"
      ]
     },
     "metadata": {
      "needs_background": "light"
     },
     "output_type": "display_data"
    }
   ],
   "source": [
    "# Calculation\n",
    "\n",
    "Narray = np.arange(0,4.1,0.5)\n",
    "t_results = np.zeros([Narray.shape[0], 3])\n",
    "\n",
    "for i in range(Narray.shape[0]):\n",
    "    N = int(10**Narray[i])\n",
    "    t_results[i,0] = cpu_forloop(N)\n",
    "    t_results[i,1] = cpu_matrix(N)\n",
    "    t_results[i,2] = gpu_matrix(N)\n",
    "    print(f'{i} / {Narray.shape[0]-1}')\n",
    "\n",
    "# Graph\n",
    "x = 10**Narray\n",
    "y = t_results.copy()\n",
    "y[y<0.001] = np.nan\n",
    "y[y>=100] = np.nan\n",
    "\n",
    "plt.figure(figsize=(5,5))\n",
    "plt.plot(x, y[:,0], 'o-', label=\"cpu_forloop\")\n",
    "plt.plot(x, y[:,1], 'o-', label=\"cpu_matrix\")\n",
    "plt.plot(x, y[:,2], 'o-', label=\"gpu_matrix\")\n",
    "plt.xscale('log')\n",
    "plt.yscale('log')\n",
    "plt.xlabel('Data size N')\n",
    "plt.ylabel('Time (sec)')\n",
    "plt.title('How fast GPU is')\n",
    "plt.legend()\n",
    "plt.grid()\n"
   ]
  },
  {
   "cell_type": "code",
   "execution_count": null,
   "id": "c7aa1652",
   "metadata": {},
   "outputs": [],
   "source": []
  }
 ],
 "metadata": {
  "kernelspec": {
   "display_name": "Python 3 (ipykernel)",
   "language": "python",
   "name": "python3"
  },
  "language_info": {
   "codemirror_mode": {
    "name": "ipython",
    "version": 3
   },
   "file_extension": ".py",
   "mimetype": "text/x-python",
   "name": "python",
   "nbconvert_exporter": "python",
   "pygments_lexer": "ipython3",
   "version": "3.9.13"
  }
 },
 "nbformat": 4,
 "nbformat_minor": 5
}
