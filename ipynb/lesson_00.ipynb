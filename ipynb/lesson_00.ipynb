{
 "cells": [
  {
   "cell_type": "markdown",
   "id": "7d56bbac",
   "metadata": {},
   "source": [
    "# とにかく「shit + Enter」を押していくと、上から実行していきます。\n",
    "# 全部実行した後、数字とかを変えてみて実行し、感覚をつかんだら、あとはインターネットで調べてください。"
   ]
  },
  {
   "cell_type": "code",
   "execution_count": 1,
   "id": "ab14f1ba",
   "metadata": {},
   "outputs": [
    {
     "data": {
      "text/plain": [
       "3"
      ]
     },
     "execution_count": 1,
     "metadata": {},
     "output_type": "execute_result"
    }
   ],
   "source": [
    "# 計算できます。「#」以下は無視されます。\n",
    "1+2"
   ]
  },
  {
   "cell_type": "code",
   "execution_count": 2,
   "id": "f53e98b8",
   "metadata": {},
   "outputs": [
    {
     "data": {
      "text/plain": [
       "8"
      ]
     },
     "execution_count": 2,
     "metadata": {},
     "output_type": "execute_result"
    }
   ],
   "source": [
    "# 代入できます。最後の行だけ出力が見えます。\n",
    "a = 2\n",
    "b = 3\n",
    "a**b # これは２の３乗という意味です。"
   ]
  },
  {
   "cell_type": "code",
   "execution_count": 3,
   "id": "8b907005",
   "metadata": {},
   "outputs": [
    {
     "name": "stdout",
     "output_type": "stream",
     "text": [
      "[0.  0.1 0.2 0.3 0.4 0.5 0.6 0.7 0.8 0.9 1.  1.1 1.2 1.3 1.4 1.5 1.6 1.7\n",
      " 1.8 1.9 2.  2.1 2.2 2.3 2.4 2.5 2.6 2.7 2.8 2.9]\n"
     ]
    },
    {
     "data": {
      "text/plain": [
       "[<matplotlib.lines.Line2D at 0x2b447ec13d0>]"
      ]
     },
     "execution_count": 3,
     "metadata": {},
     "output_type": "execute_result"
    },
    {
     "data": {
      "image/png": "[encoded data removed]",
      "text/plain": [
       "<Figure size 432x288 with 1 Axes>"
      ]
     },
     "metadata": {
      "needs_background": "light"
     },
     "output_type": "display_data"
    }
   ],
   "source": [
    "# 便利な関数たちを呼び出して使えます。\n",
    "import numpy as np # 数値計算用（Numerical Pythonの略）\n",
    "import matplotlib.pyplot as plt  # グラフプロット用\n",
    "\n",
    "x = np.arange(0, 3, 0.1) #0から3まで0.1刻み。3は含まれないことに注意。\n",
    "print(x)  # printをつけると最後の行じゃなくても出力します。\n",
    "y = a*(x**2) + b\n",
    "plt.plot( x, y , 'o-' )\n",
    "\n"
   ]
  },
  {
   "cell_type": "markdown",
   "id": "8913301c",
   "metadata": {},
   "source": [
    "\n",
    "以上です。大体体験できたと思います。\n",
    "まあ何でもできると思って、あとは必要性ややりたいことや興味ができたときにググったりして調べながらやればよいと思います。\n",
    "\n",
    "と、思っていましたが、「真面目にやってください」ということですので、以下にPythonの基礎を色々と書いておきます。"
   ]
  },
  {
   "cell_type": "markdown",
   "id": "d44867dd",
   "metadata": {},
   "source": [
    "# 補足１．扱う変数のタイプ\n",
    "プログラミングは、a=2みたいに一つの数を扱うだけでなく、大量のデータを処理できることが便利なところです。で、Pythonは標準的なものだと主に３通りあり、リスト、Numpy、Pandasです。ざっくりいうと、\n",
    "\n",
    "・リストは雑多に使う。\n",
    "\n",
    "・Numpyは数値を扱う。理論研究はこれだけでOKなことも多い。\n",
    "\n",
    "・Pandasはデータ解析に使う。この中ではNumpyも使う。\n",
    "\n",
    "という感じです。つまり、Pandasを使っているときは、リストもNumpyも使っているでしょう。ということで、以下に説明します。"
   ]
  },
  {
   "cell_type": "code",
   "execution_count": 4,
   "id": "b3b11fb0",
   "metadata": {},
   "outputs": [
    {
     "name": "stdout",
     "output_type": "stream",
     "text": [
      "a= ['I have a pen.', 5, 3.2, 0.3333333333333333]\n",
      "3.2\n"
     ]
    }
   ],
   "source": [
    "# リスト（なんでも入れられます。中身を指定する場合はIndexが１からではなくて０から始まります。）\n",
    "a = ['I have a pen.', 5, 3.2, 1/3]\n",
    "print('a=', a)\n",
    "print(a[2])"
   ]
  },
  {
   "cell_type": "code",
   "execution_count": 5,
   "id": "a7a934c5",
   "metadata": {},
   "outputs": [
    {
     "name": "stdout",
     "output_type": "stream",
     "text": [
      "a= [1.         5.         3.2        0.33333333]\n",
      "3.2\n",
      "\n",
      "\n",
      "a= ['I have a pen.' '5' '3.2' '0.3333333333333333'] \n",
      "\n",
      "a= [[ 1.          5.          3.2         0.33333333]\n",
      " [ 2.          3.          4.          5.        ]\n",
      " [ 7.          8.          9.         10.        ]]\n",
      "a[1,2]= 4.0\n",
      "a[:,2]= [3.2 4.  9. ]\n",
      "a[1,:]= [2. 3. 4. 5.]\n",
      "a[1, 1:]= [3. 4. 5.]\n",
      "a[1, 1:3]= [3. 4.]\n"
     ]
    }
   ],
   "source": [
    "# numpy（数学が使えます。）\n",
    "# 一回これをImportすればKernelを終了するまで使えます。（Kernelというのはこれを計算してくれてる人みたいなものです）\n",
    "# numpyと書くのがめんどくさいのでnp（世界共通です）。*とするとnpもなしにできますが、何の関数かわからなくなるのでやめましょう。\n",
    "import numpy as np\n",
    "\n",
    "a = np.array([1, 5, 3.2, 1/3])\n",
    "print('a=', a)\n",
    "print(a[2])\n",
    "print('\\n') # \\nは改行です。これはPythonではなく正規表現です。知らない人は「正規表現」をググってください。\n",
    "\n",
    "# numpyでも文字列とかを使えますが、全ての形式が統一されますので、混合していると数字も文字列として認識されます。\n",
    "a = np.array(['I have a pen.', 5, 3.2, 0.3333333333333333])\n",
    "print('a=', a, '\\n')\n",
    "\n",
    "# ２次元や３次元にできます。\n",
    "a = np.array([ [1, 5, 3.2, 1/3], [2,3,4,5], [7,8,9,10] ])\n",
    "print('a=', a)\n",
    "print('a[1,2]=', a[1,2])\n",
    "print('a[:,2]=', a[:,2])\n",
    "print('a[1,:]=', a[1,:])\n",
    "print('a[1, 1:]=', a[1,1:])\n",
    "print('a[1, 1:3]=', a[1,1:3])\n"
   ]
  },
  {
   "cell_type": "code",
   "execution_count": 6,
   "id": "02cf71b5",
   "metadata": {},
   "outputs": [
    {
     "name": "stdout",
     "output_type": "stream",
     "text": [
      "list; a= [1, 5, 3, 2]\n",
      "np; b= [1 5 3 2] \n",
      "\n",
      "list; a*3= [1, 5, 3, 2, 1, 5, 3, 2, 1, 5, 3, 2]\n",
      "np; b*3= [ 3 15  9  6]\n"
     ]
    }
   ],
   "source": [
    "# リストとnumpyの違いを見てみます。\n",
    "a = [1, 5, 3, 2]\n",
    "b = np.array(a)\n",
    "print('list; a=', a)\n",
    "print('np; b=', b, '\\n')\n",
    "\n",
    "# 掛け算すると、Numpyは数学的に扱います。\n",
    "print('list; a*3=', a*3)\n",
    "print('np; b*3=', b*3)\n",
    "\n"
   ]
  },
  {
   "cell_type": "code",
   "execution_count": 7,
   "id": "33df0cf8",
   "metadata": {},
   "outputs": [
    {
     "name": "stdout",
     "output_type": "stream",
     "text": [
      "   0  1    2          3\n",
      "0  1  5  3.2   0.333333\n",
      "1  2  3  4.0   5.000000\n",
      "2  7  8  9.0  10.000000 \n",
      "\n",
      "    0   1     2          3\n",
      "0   2  10   6.4   0.666667\n",
      "1   4   6   8.0  10.000000\n",
      "2  14  16  18.0  20.000000 \n",
      "\n",
      "   0  1    2          3\n",
      "0  1  猫  3.2   0.333333\n",
      "1  2  3  4.0   5.000000\n",
      "2  7  8  9.0  10.000000 \n",
      "\n",
      "    0   1     2          3\n",
      "0   2  猫猫   6.4   0.666667\n",
      "1   4   6   8.0  10.000000\n",
      "2  14  16  18.0  20.000000 \n",
      "\n",
      "   東京 大阪   神戸         京都\n",
      "0   1  猫  3.2   0.333333\n",
      "1   2  3  4.0   5.000000\n",
      "2   7  8  9.0  10.000000 \n",
      "\n",
      "     東京 大阪   神戸         京都\n",
      "私     1  猫  3.2   0.333333\n",
      "あなた   2  3  4.0   5.000000\n",
      "誰か    7  8  9.0  10.000000 \n",
      "\n",
      "私       6.4\n",
      "あなた     8.0\n",
      "誰か     18.0\n",
      "Name: 神戸, dtype: float64 \n",
      "\n",
      "a.iloc[1,2] = 4.0\n"
     ]
    }
   ],
   "source": [
    "# Pandasもnp同様にimportします。\n",
    "import pandas as pd\n",
    "\n",
    "# PandasもNumpyみたいにできます。\n",
    "a = pd.DataFrame([ [1, 5, 3.2, 1/3], [2,3,4,5], [7,8,9,10] ])\n",
    "print(a, '\\n')\n",
    "print(a*2, '\\n')\n",
    "\n",
    "# でも数字と文字を混ぜられます。\n",
    "a = pd.DataFrame([ [1, '猫', 3.2, 1/3], [2,3,4,5], [7,8,9,10] ])\n",
    "print(a, '\\n')\n",
    "print(a*2, '\\n')\n",
    "\n",
    "# 行や列に名前を付けることができます。\n",
    "a.columns = ['東京','大阪','神戸','京都']\n",
    "print(a, '\\n')\n",
    "a.index = ['私','あなた','誰か']\n",
    "print(a, '\\n')\n",
    "\n",
    "# 名前で指定して、計算することができます。\n",
    "b = a['神戸']*2\n",
    "print(b, '\\n')\n",
    "\n",
    "# Numpyみたいに番号で指定したい場合はilocを使います。\n",
    "print( \"a.iloc[1,2] =\",  a.iloc[1,2] )\n"
   ]
  },
  {
   "cell_type": "code",
   "execution_count": 8,
   "id": "ed9ec431",
   "metadata": {},
   "outputs": [
    {
     "name": "stdout",
     "output_type": "stream",
     "text": [
      "   1   2   3   4\n",
      "0  5   6   7   8\n",
      "1  9  10  11  12\n"
     ]
    }
   ],
   "source": [
    "# Pandasは便利ながらも色々めんどくさかったりしますが、データ取り組みには特に便利です。\n",
    "\n",
    "a = \"https://raw.githubusercontent.com/hosodakazufumi/note/master/data/numbers.csv\"\n",
    "b = pd.read_csv( a )\n",
    "print(b)\n",
    "\n",
    "# 上記のaはアドレスです。今はURLですが、PC上のファイルが普通です。Colabの場合はGoogleドライブも便利です。 \n",
    "# PC上の場合は、　a = \"C:/Users/suzuki/Documents/numbers.csv\" みたいな感じです。\n",
    "# Windowsでは、「\\」を「/」または「\\\\」に変更する必要があります。\n",
    "# または、\"\"の前に「r」をつけてもいいです。\n",
    "# つまり、 a = r\"C:\\Users/suzuki\\Documents\\numbers.csv\"  です。\n"
   ]
  },
  {
   "cell_type": "code",
   "execution_count": 9,
   "id": "e5de4839",
   "metadata": {},
   "outputs": [
    {
     "name": "stdout",
     "output_type": "stream",
     "text": [
      "      人   tokyo   osaka   kobe   kyoto\n",
      "0     私       1       2      3       4\n",
      "1   あなた       5       6      7       8\n",
      "2    誰か       9      10     11      12 \n",
      "\n",
      "      0       1       2      3       4\n",
      "0     人   tokyo   osaka   kobe   kyoto\n",
      "1     私       1       2      3       4\n",
      "2   あなた       5       6      7       8\n",
      "3    誰か       9      10     11      12 \n",
      "\n",
      "       tokyo   osaka   kobe   kyoto\n",
      " 人                                 \n",
      " 私         1       2      3       4\n",
      " あなた       5       6      7       8\n",
      " 誰か        9      10     11      12 \n",
      "\n"
     ]
    }
   ],
   "source": [
    "# 文字がついているときはいろいろと指定しないといけません。\n",
    "a = \"https://raw.githubusercontent.com/hosodakazufumi/note/master/data/tokyo.csv\"\n",
    "\n",
    "# まずはそのままだと？ 勝手にColumnのヘッダを認識。Indexは無視。\n",
    "b = pd.read_csv( a )\n",
    "print(b, '\\n')\n",
    "\n",
    "# １行目をヘッダではなくデータとするには。\n",
    "b = pd.read_csv( a, header=None )\n",
    "print(b, '\\n')\n",
    "\n",
    "# １列目をデータではなく列IDとするには。\n",
    "b = pd.read_csv( a, index_col=0 )\n",
    "print(b, '\\n')\n"
   ]
  },
  {
   "cell_type": "code",
   "execution_count": 10,
   "id": "05463494",
   "metadata": {},
   "outputs": [
    {
     "name": "stdout",
     "output_type": "stream",
     "text": [
      "pandas \n",
      "        tokyo   osaka   kobe   kyoto\n",
      " 人                                 \n",
      " 私         1       2      3       4\n",
      " あなた       5       6      7       8\n",
      " 誰か        9      10     11      12\n",
      "\n",
      "numpy\n",
      " [[ 1  2  3  4]\n",
      " [ 5  6  7  8]\n",
      " [ 9 10 11 12]]\n"
     ]
    }
   ],
   "source": [
    "# Numpyにすることもできます。この場合だとNumpyでいいでしょう。\n",
    "print('pandas \\n', b)\n",
    "c = np.array(b)\n",
    "print('\\nnumpy\\n', c)"
   ]
  },
  {
   "cell_type": "code",
   "execution_count": 11,
   "id": "f4037ac9",
   "metadata": {},
   "outputs": [
    {
     "name": "stdout",
     "output_type": "stream",
     "text": [
      "       人      場所  好き度\n",
      "0      私   tokyo    1\n",
      "1      私   osaka    2\n",
      "2      私    kobe    3\n",
      "3      私   kyoto    4\n",
      "4    あなた   tokyo    5\n",
      "5    あなた   osaka    6\n",
      "6    あなた    kobe    7\n",
      "7    あなた   kyoto    8\n",
      "8     誰か   tokyo    9\n",
      "9     誰か   osaka   10\n",
      "10    誰か    kobe   11\n",
      "11    誰か   kyoto   12 \n",
      "\n"
     ]
    }
   ],
   "source": [
    "# Pandasの強みは、以下のようなデータ構造の時です。\n",
    "a = \"https://raw.githubusercontent.com/hosodakazufumi/note/master/data/tokyo2.csv\"\n",
    "\n",
    "# さきほどと同じデータですが、まとめ方が違います。\n",
    "b = pd.read_csv( a )\n",
    "print(b, '\\n')\n"
   ]
  },
  {
   "cell_type": "code",
   "execution_count": 12,
   "id": "4450e697",
   "metadata": {},
   "outputs": [
    {
     "name": "stdout",
     "output_type": "stream",
     "text": [
      "      名前     居住地 性別   測定年 投薬  体重   血圧  体脂肪率\n",
      "0      私   tokyo  女  2019  有  80  130    20\n",
      "1      私   osaka  女  2020  無  82  125    25\n",
      "2      私    kobe  女  2021  有  85  140    23\n",
      "3      私   kyoto  女  2022  無  82  120    22\n",
      "4    あなた   tokyo  男  2019  無  63   85    15\n",
      "5    あなた   osaka  男  2020  無  60   79    20\n",
      "6    あなた    kobe  男  2021  無  62   82    30\n",
      "7    あなた   kyoto  男  2022  無  61   70    15\n",
      "8     誰か   tokyo  X  2019  有  75  100    30\n",
      "9     誰か   osaka  X  2020  有  70   90    40\n",
      "10    誰か    kobe  X  2021  有  75  105    35\n",
      "11    誰か   kyoto  X  2022  有  78  110    30 \n",
      "\n"
     ]
    },
    {
     "data": {
      "text/html": [
       "<div>\n",
       "<style scoped>\n",
       "    .dataframe tbody tr th:only-of-type {\n",
       "        vertical-align: middle;\n",
       "    }\n",
       "\n",
       "    .dataframe tbody tr th {\n",
       "        vertical-align: top;\n",
       "    }\n",
       "\n",
       "    .dataframe thead th {\n",
       "        text-align: right;\n",
       "    }\n",
       "</style>\n",
       "<table border=\"1\" class=\"dataframe\">\n",
       "  <thead>\n",
       "    <tr style=\"text-align: right;\">\n",
       "      <th></th>\n",
       "      <th>名前</th>\n",
       "      <th>居住地</th>\n",
       "      <th>性別</th>\n",
       "      <th>測定年</th>\n",
       "      <th>投薬</th>\n",
       "      <th>体重</th>\n",
       "      <th>血圧</th>\n",
       "      <th>体脂肪率</th>\n",
       "    </tr>\n",
       "  </thead>\n",
       "  <tbody>\n",
       "    <tr>\n",
       "      <th>1</th>\n",
       "      <td>私</td>\n",
       "      <td>osaka</td>\n",
       "      <td>女</td>\n",
       "      <td>2020</td>\n",
       "      <td>無</td>\n",
       "      <td>82</td>\n",
       "      <td>125</td>\n",
       "      <td>25</td>\n",
       "    </tr>\n",
       "    <tr>\n",
       "      <th>5</th>\n",
       "      <td>あなた</td>\n",
       "      <td>osaka</td>\n",
       "      <td>男</td>\n",
       "      <td>2020</td>\n",
       "      <td>無</td>\n",
       "      <td>60</td>\n",
       "      <td>79</td>\n",
       "      <td>20</td>\n",
       "    </tr>\n",
       "    <tr>\n",
       "      <th>9</th>\n",
       "      <td>誰か</td>\n",
       "      <td>osaka</td>\n",
       "      <td>X</td>\n",
       "      <td>2020</td>\n",
       "      <td>有</td>\n",
       "      <td>70</td>\n",
       "      <td>90</td>\n",
       "      <td>40</td>\n",
       "    </tr>\n",
       "  </tbody>\n",
       "</table>\n",
       "</div>"
      ],
      "text/plain": [
       "     名前     居住地 性別   測定年 投薬  体重   血圧  体脂肪率\n",
       "1     私   osaka  女  2020  無  82  125    25\n",
       "5   あなた   osaka  男  2020  無  60   79    20\n",
       "9    誰か   osaka  X  2020  有  70   90    40"
      ]
     },
     "execution_count": 12,
     "metadata": {},
     "output_type": "execute_result"
    }
   ],
   "source": [
    "# このまとめ方は、タグの種類が多くなる（高次元データ）と便利です。\n",
    "# １行１行が独立しているため、部分的に取り出したりできます。\n",
    "# よって巨大データベースでも簡単に扱うことができます。\n",
    "a = \"https://raw.githubusercontent.com/hosodakazufumi/note/master/data/tokyo3.csv\"\n",
    "\n",
    "b = pd.read_csv( a )\n",
    "print(b, '\\n')\n",
    "\n",
    "# 例えば、ある年のデータのみを取ってくることができます。あ～便利。\n",
    "c = b[ b['測定年']==2020 ]\n",
    "c"
   ]
  },
  {
   "cell_type": "code",
   "execution_count": 13,
   "id": "3896a99f",
   "metadata": {},
   "outputs": [
    {
     "name": "stdout",
     "output_type": "stream",
     "text": [
      "c.loc[1,:]とすると\n",
      " 名前           私\n",
      "居住地      osaka\n",
      "性別           女\n",
      "測定年       2020\n",
      "投薬           無\n",
      "体重          82\n",
      "血圧         125\n",
      "体脂肪率        25\n",
      "Name: 1, dtype: object\n",
      "\n",
      "c.loc[5,:]とすると\n",
      " 名前         あなた\n",
      "居住地      osaka\n",
      "性別           男\n",
      "測定年       2020\n",
      "投薬           無\n",
      "体重          60\n",
      "血圧          79\n",
      "体脂肪率        20\n",
      "Name: 5, dtype: object\n",
      "\n",
      "c.iloc[1,:]とすると\n",
      " 名前         あなた\n",
      "居住地      osaka\n",
      "性別           男\n",
      "測定年       2020\n",
      "投薬           無\n",
      "体重          60\n",
      "血圧          79\n",
      "体脂肪率        20\n",
      "Name: 5, dtype: object\n"
     ]
    }
   ],
   "source": [
    "# ※上記でちょっと注意してほしいことがあります。\n",
    "# cの2行目（つまりi=1）を取り出そうとして、以下のようにすると失敗します。\n",
    "d = c.loc[1,:]\n",
    "print( 'c.loc[1,:]とすると\\n' , d)\n",
    "\n",
    "# これは、上記のcの左側の数字はもちこされるからです。なので以下のようにしないといけません。\n",
    "d = c.loc[5,:]\n",
    "print( '\\nc.loc[5,:]とすると\\n' , d)\n",
    "\n",
    "# または、単純に2行目（つまりi=1）を抜き出したいぞという時は、ilocにします。\n",
    "d = c.iloc[1,:]\n",
    "print( '\\nc.iloc[1,:]とすると\\n' , d)\n",
    "\n"
   ]
  },
  {
   "cell_type": "markdown",
   "id": "1c84fdb3",
   "metadata": {},
   "source": [
    "# 補足２．for ループ、if else、関数の定義。\n",
    "\n",
    "プログラミングといえばやっぱこういうやつだなあ、ということで、それらを説明します。"
   ]
  },
  {
   "cell_type": "code",
   "execution_count": 14,
   "id": "1388db48",
   "metadata": {},
   "outputs": [
    {
     "name": "stdout",
     "output_type": "stream",
     "text": [
      "2 1.0\n",
      "5 2.5\n",
      "8 4.0\n",
      "i=0, x=0.0\n",
      "i=1, x=0.5\n",
      "i=2, x=1.0\n",
      "i=3, x=1.5\n",
      "i=4, x=2.0\n",
      "i=5, x=2.5\n",
      "i=0, j=0, a=0, b=0.0, x=0.0\n",
      "i=0, j=1, a=0, b=0.5, x=0.5\n",
      "i=0, j=2, a=0, b=1.0, x=1.0\n",
      "i=0, j=3, a=0, b=1.5, x=1.5\n",
      "i=1, j=0, a=1, b=0.0, x=1.5\n",
      "i=1, j=1, a=1, b=0.5, x=2.0\n",
      "i=1, j=2, a=1, b=1.0, x=3.0\n",
      "i=1, j=3, a=1, b=1.5, x=4.5\n",
      "i=2, j=0, a=4, b=0.0, x=18.0\n",
      "i=2, j=1, a=4, b=0.5, x=72.5\n",
      "i=2, j=2, a=4, b=1.0, x=291.0\n",
      "i=2, j=3, a=4, b=1.5, x=1165.5\n"
     ]
    }
   ],
   "source": [
    "# プログラミングといえば、for ループ\n",
    "# そもそもプログラムとは、上から順にやっていく手順です。\n",
    "# 全部を書けばいいけど、同じ部分はめんどくさいので繰り返したい。\n",
    "# そんな for ループです。\n",
    "\n",
    "# inの後のやつの中を、順番に一個ずつiにいれて実行する、を繰り返します。\n",
    "for i in [2,5,8]: \n",
    "    x = i / 2\n",
    "    print(i, x)\n",
    "\n",
    "# こうすると、[0,1,2,3,4,5]と同じになります。\n",
    "for i in range(6): \n",
    "    x = i / 2\n",
    "    print(f'i={i}, x={x}') #ついでに、こう書くと（頭にf、変数は{}内）、文字と変数の値を混ぜられます\n",
    "\n",
    "# 何重にもできます。あ～便利。\n",
    "for i in range(3):\n",
    "    a = i**2\n",
    "    for j in range(4):\n",
    "        b = j/2\n",
    "        x = a*x + b\n",
    "        print(f'i={i}, j={j}, a={a}, b={b}, x={x}')"
   ]
  },
  {
   "cell_type": "code",
   "execution_count": 15,
   "id": "01d404fe",
   "metadata": {},
   "outputs": [
    {
     "name": "stdout",
     "output_type": "stream",
     "text": [
      "a vector =  [0.00331136 0.43657558 0.19401847 0.13853029 0.15258406 0.20646212\n",
      " 0.94584839 0.00378654 0.38933037 0.32444019]\n",
      "i=0, x=-0.4966886393837683\n",
      "i=1, x=-0.06342441892425799\n",
      "i=2, x=-0.30598153244856985\n",
      "i=3, x=-0.36146970886511887\n",
      "i=4, x=-0.34741593622688316\n",
      "i=5, x=-0.29353788228170763\n",
      "i=6, x=0.44584839446659474\n",
      "Positive!!!\n",
      "i=7, x=-0.4962134637061719\n",
      "i=8, x=-0.1106696258222234\n",
      "i=9, x=-0.17555980870156918\n",
      "Positive count = 1\n",
      "\n",
      " 一気に出来るけど・・・ 1\n"
     ]
    }
   ],
   "source": [
    "# 次に if else です。\n",
    "# そもそもプログラムとは、上から順にやっていく手順です。\n",
    "# でも条件によって分岐させたい、そんなif elseです。\n",
    "\n",
    "a = np.random.random( [10] ) # 10個のランダム配列を作る。（0～1の値になる）\n",
    "print('a vector = ' , a)\n",
    "\n",
    "posi_count=0\n",
    "for i in range( len(a) ):  # a の長さだけ繰り返します。\n",
    "    x = (a[i]-0.5)\n",
    "    if x>0:\n",
    "        print(f'i={i}, x={x}')\n",
    "        print('Positive!!!')\n",
    "        posi_count = posi_count + 1 # posi_count += 1 と書いても全く同じです。        \n",
    "    else:\n",
    "        print(f'i={i}, x={x}')\n",
    "print( 'Positive count =', posi_count )\n",
    "\n",
    "# まあ、この例は一気に出来るんですけどね。\n",
    "posi_count = ( (a-0.5)>0 ).sum()\n",
    "print( '\\n 一気に出来るけど・・・', posi_count )\n",
    "\n"
   ]
  },
  {
   "cell_type": "code",
   "execution_count": 16,
   "id": "ecb0ad94",
   "metadata": {},
   "outputs": [
    {
     "name": "stdout",
     "output_type": "stream",
     "text": [
      "関数でやると・・・ 1\n"
     ]
    }
   ],
   "source": [
    "# そして関数の定義です。\n",
    "# posi_count = ( (a-0.5)>0 ).sum()\n",
    "# の部分を関数にしてみます。\n",
    "\n",
    "def nandemo_ok(x):\n",
    "    y = x-0.5\n",
    "    z = (y>0)\n",
    "    output = z.sum()\n",
    "    return output\n",
    "\n",
    "posi_count = nandemo_ok( a )\n",
    "print( '関数でやると・・・', posi_count )\n"
   ]
  },
  {
   "cell_type": "code",
   "execution_count": 17,
   "id": "e297f14f",
   "metadata": {},
   "outputs": [
    {
     "data": {
      "image/png": "[encoded data removed]",
      "text/plain": [
       "<Figure size 216x216 with 1 Axes>"
      ]
     },
     "metadata": {
      "needs_background": "light"
     },
     "output_type": "display_data"
    }
   ],
   "source": [
    "# ３つとも盛り込んでみます。\n",
    "# 指数分布を見てみるとします。\n",
    "\n",
    "def f_exp(x,a):\n",
    "    y = a * np.exp( -a*x )\n",
    "    return y\n",
    "\n",
    "fig = plt.figure(figsize=(3,3))\n",
    "x = np.linspace(0, 3, 20)\n",
    "\n",
    "for i in range(6):\n",
    "    a = 2**(i-4)  # 2の(i-3)乗です。つまり、[0.25, 0.5, 1, 2, 4, 8 ]の順\n",
    "    y = f_exp(x,a)\n",
    "    if i==0: #このときだけ、黒の点線でプロットしてみると、順番がわかります。\n",
    "        plt.plot( x, y , ':' , color='black' )\n",
    "    else:\n",
    "        plt.plot( x, y  )\n"
   ]
  },
  {
   "cell_type": "code",
   "execution_count": 18,
   "id": "1e537639",
   "metadata": {},
   "outputs": [
    {
     "data": {
      "image/png": "[encoded data removed]",
      "text/plain": [
       "<Figure size 576x432 with 12 Axes>"
      ]
     },
     "metadata": {
      "needs_background": "light"
     },
     "output_type": "display_data"
    }
   ],
   "source": [
    "# ついでながら、Plot全体の中に、小さなPlot（つまりサブプロット）を並べることもできます。\n",
    "\n",
    "def f_exp_ab(x,a,b): #名前は適当です。\n",
    "    y = a * np.exp( -b*x )\n",
    "    return y\n",
    "\n",
    "fig, ax = plt.subplots(3, 4, figsize=(8,6))\n",
    "\n",
    "for i in range(3):\n",
    "    a = 2**(i-1)  \n",
    "    for j in range(4):\n",
    "        b = 2**(j-2)\n",
    "        y = f_exp_ab(x,a,b)\n",
    "        rgb_value = [ i/2, 0, 1-j/3 ]\n",
    "        ax[i,j].plot( x, y , color=rgb_value )\n",
    "        ax[i,j].set_ylim([0,2]) # Y軸の範囲を手動で設定します。\n",
    "        ax[i,j].set_title( f'a={a}, b={b}' ) #こうするとタイトルを書けます。\n"
   ]
  },
  {
   "cell_type": "markdown",
   "id": "3c97f955",
   "metadata": {},
   "source": [
    "# 補足３．最後に、ファイル出力です\n",
    "\n",
    "これは、ちょっと自分のPCか、このColabかで違います。\n",
    "例えばプロットの画像を保存してみます。（今、figという変数に上記のプロットが入っているはずです）\n",
    "\n",
    "自分のPCの場合は、超簡単にデータを保存することもできます。\n",
    "例えば、上で fig= で入れたプロット画像を保存するのは `fig.savefig('xxx.png') ` だけでOKです（xxxは適当な名前です）。pngのところをjpgやepsに変えるだけで、それなりの形式にしてくれます。ちなみに、figというのも、別にどんな名前でもOKです。\n",
    "\n",
    "そのファイルはどこに保存されたんだ？ という話ですが、今「Kernelさん（ここでは頭脳みたいなもの）」がどこにいるかを調べるとわかります。そのためには、まず `import os` して、 `print(os.getcwd())` すればOKです。\n",
    "\n",
    "実はColabでも割と簡単に保存できます。PCには保存できませんので、Googleドライブを扱うことになります。\n",
    "\n",
    "まず、先にGoogleドライブを使用可能にします。（ブラウザでログインみたいなのを求められます）。\n",
    "そのためには、まず `from google.colab import drive` して、 `drive.mount('./gdrive')` します。これでマウントといって、カーネルさんがGoogleドライブを認識できるようになりました。\n",
    "\n",
    "次に、カーネルさんを、マイドライブに移動しまず。 `os.chdir('gdrive/MyDrive')` こうです。\n",
    "\n",
    "そして、保存します。 `fig.savefig('xxx.png')` でOKです。\n",
    "\n",
    "このように、Googleドライブを使うと、データを読み込むこともできます。\n",
    "例えば、マイドライブの中に、aaaというフォルダがあって、その中にbbb.csvというファイルがあるなら、\n",
    "'gdrive/MyDrive/aaa/bbb' がそのファイルのアドレスです。\n",
    "\n",
    "※もちろん、MyDriveの下に、例えば「yyy」という名前の適当なフォルダを作って、`os.chdir('gdrive/MyDrive/yyy')`してから保存すれば、yyyに保存されます。または、カーネルさんの位置は変えずに、`fig.savefig('yyy/xxx.png')`という風に保存しても、同じことが起こります。\n",
    "\n",
    "※同様にして、Driveから入力もできます。もちろん図だけでなくcsvとかも保存できます。\n"
   ]
  },
  {
   "cell_type": "code",
   "execution_count": null,
   "id": "31af5793",
   "metadata": {},
   "outputs": [],
   "source": []
  },
  {
   "cell_type": "code",
   "execution_count": null,
   "id": "f5b9392e",
   "metadata": {},
   "outputs": [],
   "source": []
  }
 ],
 "metadata": {
  "kernelspec": {
   "display_name": "Python 3 (ipykernel)",
   "language": "python",
   "name": "python3"
  },
  "language_info": {
   "codemirror_mode": {
    "name": "ipython",
    "version": 3
   },
   "file_extension": ".py",
   "mimetype": "text/x-python",
   "name": "python",
   "nbconvert_exporter": "python",
   "pygments_lexer": "ipython3",
   "version": "3.9.13"
  }
 },
 "nbformat": 4,
 "nbformat_minor": 5
}
