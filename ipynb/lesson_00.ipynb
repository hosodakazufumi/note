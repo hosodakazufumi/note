{
 "cells": [
  {
   "cell_type": "code",
   "execution_count": 1,
   "id": "cadf658c",
   "metadata": {},
   "outputs": [],
   "source": [
    "# とにかく「shit + Enter」を押していくと、上から実行していきます。\n",
    "# 全部実行した後、数字とかを変えてみて実行し、感覚をつかんだら、あとはインターネットで調べてください。"
   ]
  },
  {
   "cell_type": "code",
   "execution_count": 2,
   "id": "ab14f1ba",
   "metadata": {},
   "outputs": [
    {
     "data": {
      "text/plain": [
       "3"
      ]
     },
     "execution_count": 2,
     "metadata": {},
     "output_type": "execute_result"
    }
   ],
   "source": [
    "# 計算できます。「#」以下は無視されます。\n",
    "1+2"
   ]
  },
  {
   "cell_type": "code",
   "execution_count": 3,
   "id": "f53e98b8",
   "metadata": {},
   "outputs": [
    {
     "data": {
      "text/plain": [
       "8"
      ]
     },
     "execution_count": 3,
     "metadata": {},
     "output_type": "execute_result"
    }
   ],
   "source": [
    "# 代入できます。最後の行だけ出力が見えます。\n",
    "a = 2\n",
    "b = 3\n",
    "a**b # これは２の３乗という意味です。"
   ]
  },
  {
   "cell_type": "code",
   "execution_count": 4,
   "id": "8b907005",
   "metadata": {},
   "outputs": [
    {
     "name": "stdout",
     "output_type": "stream",
     "text": [
      "[0.  0.1 0.2 0.3 0.4 0.5 0.6 0.7 0.8 0.9 1.  1.1 1.2 1.3 1.4 1.5 1.6 1.7\n",
      " 1.8 1.9 2.  2.1 2.2 2.3 2.4 2.5 2.6 2.7 2.8 2.9]\n"
     ]
    },
    {
     "data": {
      "text/plain": [
       "[<matplotlib.lines.Line2D at 0x225f5cbc850>]"
      ]
     },
     "execution_count": 4,
     "metadata": {},
     "output_type": "execute_result"
    },
    {
     "data": {
      "image/png": "[encoded data removed]",
      "text/plain": [
       "<Figure size 432x288 with 1 Axes>"
      ]
     },
     "metadata": {
      "needs_background": "light"
     },
     "output_type": "display_data"
    }
   ],
   "source": [
    "# 便利な関数たちを呼び出して使えます。\n",
    "import numpy as np # 数値計算用（Numerical Pythonの略）\n",
    "import matplotlib.pyplot as plt  # グラフプロット用\n",
    "\n",
    "x = np.arange(0,3,0.1) #0から3まで0.1刻み\n",
    "print(x)  # printをつけると最後の行じゃなくても出力します。\n",
    "y = a*(x**2) + b\n",
    "plt.plot( x, y , 'o-' )"
   ]
  },
  {
   "cell_type": "code",
   "execution_count": null,
   "id": "800e87a7",
   "metadata": {},
   "outputs": [],
   "source": []
  }
 ],
 "metadata": {
  "kernelspec": {
   "display_name": "Python 3 (ipykernel)",
   "language": "python",
   "name": "python3"
  },
  "language_info": {
   "codemirror_mode": {
    "name": "ipython",
    "version": 3
   },
   "file_extension": ".py",
   "mimetype": "text/x-python",
   "name": "python",
   "nbconvert_exporter": "python",
   "pygments_lexer": "ipython3",
   "version": "3.9.13"
  }
 },
 "nbformat": 4,
 "nbformat_minor": 5
}
